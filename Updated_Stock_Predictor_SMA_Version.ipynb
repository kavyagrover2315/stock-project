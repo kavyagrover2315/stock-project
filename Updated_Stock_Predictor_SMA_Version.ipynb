{
 "cells": [
  {
   "cell_type": "code",
   "execution_count": null,
   "id": "4a8f3d2f",
   "metadata": {},
   "outputs": [],
   "source": [
    "\n",
    "import numpy as np\n",
    "import pandas as pd\n",
    "import yfinance as yf\n",
    "import matplotlib.pyplot as plt\n",
    "import seaborn as sns\n",
    "\n",
    "# For inline plotting in Jupyter\n",
    "%matplotlib inline\n"
   ]
  },
  {
   "cell_type": "markdown",
   "id": "c431a63c",
   "metadata": {},
   "source": [
    "## 📈 Stock Market Predictor (SMA/EMA Version)"
   ]
  },
  {
   "cell_type": "code",
   "execution_count": null,
   "id": "e3be6815",
   "metadata": {},
   "outputs": [],
   "source": [
    "\n",
    "# User input\n",
    "stock = 'GOOG'\n",
    "start = '2020-01-01'\n",
    "end = '2025-01-01'\n",
    "\n",
    "# Fetch data\n",
    "data = yf.download(stock, start=start, end=end)\n",
    "data.tail()\n"
   ]
  },
  {
   "cell_type": "code",
   "execution_count": null,
   "id": "a5759ff8",
   "metadata": {},
   "outputs": [],
   "source": [
    "\n",
    "# Calculate SMA and EMA\n",
    "data['SMA_20'] = data['Close'].rolling(window=20).mean()\n",
    "data['EMA_20'] = data['Close'].ewm(span=20, adjust=False).mean()\n"
   ]
  },
  {
   "cell_type": "code",
   "execution_count": null,
   "id": "687c8021",
   "metadata": {},
   "outputs": [],
   "source": [
    "\n",
    "# Plotting\n",
    "plt.figure(figsize=(14, 6))\n",
    "plt.plot(data['Close'], label='Closing Price', color='blue')\n",
    "plt.plot(data['SMA_20'], label='20-day SMA', color='orange')\n",
    "plt.plot(data['EMA_20'], label='20-day EMA', color='green')\n",
    "plt.xlabel('Date')\n",
    "plt.ylabel('Price')\n",
    "plt.title(f'{stock} Price with SMA & EMA')\n",
    "plt.legend()\n",
    "plt.grid(True)\n",
    "plt.show()\n"
   ]
  },
  {
   "cell_type": "code",
   "execution_count": null,
   "id": "657fb543",
   "metadata": {},
   "outputs": [],
   "source": [
    "\n",
    "# Basic trend prediction based on EMA\n",
    "current_price = data['Close'].iloc[-1]\n",
    "ema_price = data['EMA_20'].iloc[-1]\n",
    "\n",
    "print(f\"Current Price: ${current_price:.2f}\")\n",
    "print(f\"20-day EMA: ${ema_price:.2f}\")\n",
    "\n",
    "if current_price > ema_price:\n",
    "    print(\"📈 Trend: Upward\")\n",
    "else:\n",
    "    print(\"📉 Trend: Downward\")\n"
   ]
  }
 ],
 "metadata": {
  "language_info": {
   "name": "python"
  }
 },
 "nbformat": 4,
 "nbformat_minor": 5
}
